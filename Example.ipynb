{
 "cells": [
  {
   "cell_type": "code",
   "execution_count": 5,
   "metadata": {},
   "outputs": [],
   "source": [
    "from matplotlib import pyplot as plt\n",
    "import os\n",
    "import numpy as np\n",
    "from tensorflow.keras.preprocessing.image import load_img\n",
    "from tensorflow.keras.preprocessing.image import img_to_array\n",
    "from tensorflow.keras.models import load_model"
   ]
  },
  {
   "cell_type": "code",
   "execution_count": 6,
   "metadata": {},
   "outputs": [
    {
     "name": "stdout",
     "output_type": "stream",
     "text": [
      "<tensorflow.python.keras.engine.sequential.Sequential object at 0x000001FCA6961DF0>\n"
     ]
    }
   ],
   "source": [
    "filepath = 'model.h5'\n",
    "model = load_model(filepath)\n",
    "print(model)"
   ]
  },
  {
   "cell_type": "code",
   "execution_count": 7,
   "metadata": {},
   "outputs": [
    {
     "name": "stdout",
     "output_type": "stream",
     "text": [
      "Model Loaded Successfully\n"
     ]
    }
   ],
   "source": [
    "print(\"Model Loaded Successfully\")"
   ]
  },
  {
   "cell_type": "code",
   "execution_count": 8,
   "metadata": {},
   "outputs": [
    {
     "ename": "NameError",
     "evalue": "name 'cv2' is not defined",
     "output_type": "error",
     "traceback": [
      "\u001b[1;31m---------------------------------------------------------------------------\u001b[0m",
      "\u001b[1;31mNameError\u001b[0m                                 Traceback (most recent call last)",
      "Cell \u001b[1;32mIn[8], line 1\u001b[0m\n\u001b[1;32m----> 1\u001b[0m tomato_plant \u001b[38;5;241m=\u001b[39m \u001b[43mcv2\u001b[49m\u001b[38;5;241m.\u001b[39mimread(\u001b[38;5;124m'\u001b[39m\u001b[38;5;124mDataset/test/Tomato___Bacterial_spot (1).JPG\u001b[39m\u001b[38;5;124m'\u001b[39m)\n\u001b[0;32m      2\u001b[0m test_image \u001b[38;5;241m=\u001b[39m cv2\u001b[38;5;241m.\u001b[39mresize(tomato_plant, (\u001b[38;5;241m128\u001b[39m,\u001b[38;5;241m128\u001b[39m)) \u001b[38;5;66;03m# load image \u001b[39;00m\n\u001b[0;32m      4\u001b[0m test_image \u001b[38;5;241m=\u001b[39m img_to_array(test_image)\u001b[38;5;241m/\u001b[39m\u001b[38;5;241m255\u001b[39m \u001b[38;5;66;03m# convert image to np array and normalize\u001b[39;00m\n",
      "\u001b[1;31mNameError\u001b[0m: name 'cv2' is not defined"
     ]
    }
   ],
   "source": [
    "tomato_plant = cv2.imread('Dataset/test/Tomato___Bacterial_spot (1).JPG')\n",
    "test_image = cv2.resize(tomato_plant, (128,128)) # load image \n",
    "  \n",
    "test_image = img_to_array(test_image)/255 # convert image to np array and normalize\n",
    "test_image = np.expand_dims(test_image, axis = 0) # change dimention 3D to 4D\n",
    "  \n",
    "result = model.predict(test_image) # predict diseased palnt or not\n",
    "  \n",
    "pred = np.argmax(result, axis=1)\n",
    "print(pred)\n",
    "if pred==0:\n",
    "    print( \"Tomato - Bacteria Spot Disease\")\n",
    "       \n",
    "elif pred==1:\n",
    "    print(\"Tomato - Early Blight Disease\")\n",
    "        \n",
    "elif pred==2:\n",
    "    print(\"Tomato - Healthy and Fresh\")\n",
    "        \n",
    "elif pred==3:\n",
    "    print(\"Tomato - Late Blight Disease\")\n",
    "       \n",
    "elif pred==4:\n",
    "    print(\"Tomato - Leaf Mold Disease\")\n",
    "        \n",
    "elif pred==5:\n",
    "    print(\"Tomato - Septoria Leaf Spot Disease\")\n",
    "        \n",
    "elif pred==6:\n",
    "    print(\"Tomato - Target Spot Disease\")\n",
    "        \n",
    "elif pred==7:\n",
    "      print(\"Tomato - Tomoato Yellow Leaf Curl Virus Disease\")\n",
    "elif pred==8:\n",
    "      print(\"Tomato - Tomato Mosaic Virus Disease\")\n",
    "        \n",
    "elif pred==9:\n",
    "      print(\"Tomato - Two Spotted Spider Mite Disease\")"
   ]
  }
 ],
 "metadata": {
  "kernelspec": {
   "display_name": "Python 3 (ipykernel)",
   "language": "python",
   "name": "python3"
  },
  "language_info": {
   "codemirror_mode": {
    "name": "ipython",
    "version": 3
   },
   "file_extension": ".py",
   "mimetype": "text/x-python",
   "name": "python",
   "nbconvert_exporter": "python",
   "pygments_lexer": "ipython3",
   "version": "3.8.18"
  }
 },
 "nbformat": 4,
 "nbformat_minor": 4
}
