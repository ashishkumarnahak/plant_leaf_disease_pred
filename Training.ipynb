{
 "cells": [
  {
   "cell_type": "code",
   "execution_count": 1,
   "metadata": {},
   "outputs": [],
   "source": [
    "from tensorflow.compat.v1 import ConfigProto\n",
    "from tensorflow.compat.v1 import InteractiveSession"
   ]
  },
  {
   "cell_type": "code",
   "execution_count": 2,
   "metadata": {},
   "outputs": [],
   "source": [
    "config = ConfigProto()\n",
    "config.gpu_options.allow_growth = True\n",
    "session = InteractiveSession(config=config)"
   ]
  },
  {
   "cell_type": "code",
   "execution_count": 3,
   "metadata": {},
   "outputs": [],
   "source": [
    "from tensorflow.keras.models import Sequential\n",
    "from tensorflow.keras.layers import Conv2D\n",
    "from tensorflow.keras.layers import MaxPooling2D\n",
    "from tensorflow.keras.layers import Flatten\n",
    "from tensorflow.keras.layers import Dense\n",
    "from tensorflow.keras.preprocessing.image import ImageDataGenerator\n",
    "import tensorflow as tf\n",
    "tf.compat.v1.disable_eager_execution()\n",
    "import matplotlib.pyplot as plt\n",
    "import numpy as np\n",
    "import os"
   ]
  },
  {
   "cell_type": "markdown",
   "metadata": {},
   "source": [
    "asic cnn<br>\n",
    "Initialising the CNN"
   ]
  },
  {
   "cell_type": "code",
   "execution_count": 4,
   "metadata": {},
   "outputs": [],
   "source": [
    "classifier = Sequential()"
   ]
  },
  {
   "cell_type": "markdown",
   "metadata": {},
   "source": [
    "Step 1 - Convolution"
   ]
  },
  {
   "cell_type": "code",
   "execution_count": 5,
   "metadata": {},
   "outputs": [],
   "source": [
    "classifier.add(Conv2D(32, (3, 3), input_shape = (128, 128, 3), activation = 'relu'))"
   ]
  },
  {
   "cell_type": "markdown",
   "metadata": {},
   "source": [
    "Step 2 - Pooling"
   ]
  },
  {
   "cell_type": "code",
   "execution_count": 6,
   "metadata": {},
   "outputs": [],
   "source": [
    "classifier.add(MaxPooling2D(pool_size = (2, 2)))"
   ]
  },
  {
   "cell_type": "markdown",
   "metadata": {},
   "source": [
    "Adding a second convolutional layer"
   ]
  },
  {
   "cell_type": "code",
   "execution_count": 7,
   "metadata": {},
   "outputs": [],
   "source": [
    "classifier.add(Conv2D(32, (3, 3), activation = 'relu'))\n",
    "classifier.add(MaxPooling2D(pool_size = (2, 2)))"
   ]
  },
  {
   "cell_type": "markdown",
   "metadata": {},
   "source": [
    "Step 3 - Flattening"
   ]
  },
  {
   "cell_type": "code",
   "execution_count": 8,
   "metadata": {},
   "outputs": [],
   "source": [
    "classifier.add(Flatten())"
   ]
  },
  {
   "cell_type": "markdown",
   "metadata": {},
   "source": [
    "Step 4 - Full connection"
   ]
  },
  {
   "cell_type": "code",
   "execution_count": 9,
   "metadata": {},
   "outputs": [],
   "source": [
    "classifier.add(Dense(units = 128, activation = 'relu'))\n",
    "classifier.add(Dense(units = 10, activation = 'sigmoid'))"
   ]
  },
  {
   "cell_type": "markdown",
   "metadata": {},
   "source": [
    "Compiling the CNN"
   ]
  },
  {
   "cell_type": "code",
   "execution_count": 10,
   "metadata": {},
   "outputs": [],
   "source": [
    "classifier.compile(optimizer = 'adam', loss = 'categorical_crossentropy', metrics = ['accuracy'])"
   ]
  },
  {
   "cell_type": "code",
   "execution_count": 11,
   "metadata": {},
   "outputs": [],
   "source": [
    "train_datagen = ImageDataGenerator(rescale = 1./255, shear_range = 0.2, zoom_range = 0.2, horizontal_flip = True)"
   ]
  },
  {
   "cell_type": "code",
   "execution_count": 12,
   "metadata": {},
   "outputs": [],
   "source": [
    "test_datagen = ImageDataGenerator(rescale = 1./255)"
   ]
  },
  {
   "cell_type": "code",
   "execution_count": 13,
   "metadata": {},
   "outputs": [
    {
     "name": "stdout",
     "output_type": "stream",
     "text": [
      "Found 143 images belonging to 10 classes.\n",
      "Found 53 images belonging to 10 classes.\n"
     ]
    }
   ],
   "source": [
    "training_set = train_datagen.flow_from_directory('Dataset/train', # relative path from working directoy\n",
    "                                                 target_size = (128, 128),\n",
    "                                                 batch_size = 6, class_mode = 'categorical')\n",
    "valid_set = test_datagen.flow_from_directory('Dataset/val', # relative path from working directoy\n",
    "                                             target_size = (128, 128), \n",
    "                                        batch_size = 3, class_mode = 'categorical')"
   ]
  },
  {
   "cell_type": "code",
   "execution_count": 14,
   "metadata": {},
   "outputs": [
    {
     "name": "stdout",
     "output_type": "stream",
     "text": [
      "{'Tomato - Bacterial_spot': 0, 'Tomato - Early_blight': 1, 'Tomato - Healthy': 2, 'Tomato - Late_blight': 3, 'Tomato - Leaf_Mold': 4, 'Tomato - Septoria_leaf_spot': 5, 'Tomato - Target_Spot': 6, 'Tomato - Tomato_Yellow_Leaf_Curl_Virus': 7, 'Tomato - Tomato_mosaic_virus': 8, 'Tomato - Two-spotted_spider_mite': 9}\n"
     ]
    }
   ],
   "source": [
    "labels = (training_set.class_indices)\n",
    "print(labels)"
   ]
  },
  {
   "cell_type": "code",
   "execution_count": 15,
   "metadata": {},
   "outputs": [
    {
     "name": "stderr",
     "output_type": "stream",
     "text": [
      "C:\\Users\\Acer\\.conda\\envs\\leaf-disease\\lib\\site-packages\\tensorflow\\python\\keras\\engine\\training_v1.py:1240: UserWarning: `model.fit_generator` is deprecated and will be removed in a future version. Please use `Model.fit`, which supports generators.\n",
      "  warnings.warn('`model.fit_generator` is deprecated and '\n"
     ]
    },
    {
     "name": "stdout",
     "output_type": "stream",
     "text": [
      "Epoch 1/50\n",
      "20/20 [==============================] - ETA: 0s - batch: 9.5000 - size: 5.9500 - loss: 2.3609 - accuracy: 0.1176"
     ]
    },
    {
     "name": "stderr",
     "output_type": "stream",
     "text": [
      "C:\\Users\\Acer\\.conda\\envs\\leaf-disease\\lib\\site-packages\\tensorflow\\python\\keras\\engine\\training.py:2325: UserWarning: `Model.state_updates` will be removed in a future version. This property should not be used in TensorFlow 2.0, as `updates` are applied automatically.\n",
      "  warnings.warn('`Model.state_updates` will be removed in a future version. '\n"
     ]
    },
    {
     "name": "stdout",
     "output_type": "stream",
     "text": [
      "20/20 [==============================] - 5s 198ms/step - batch: 9.5000 - size: 5.9500 - loss: 2.3609 - accuracy: 0.1176 - val_loss: 2.2955 - val_accuracy: 0.1321\n",
      "Epoch 2/50\n",
      "20/20 [==============================] - 4s 207ms/step - batch: 9.5000 - size: 6.0000 - loss: 2.2603 - accuracy: 0.1500 - val_loss: 2.2807 - val_accuracy: 0.1321\n",
      "Epoch 3/50\n",
      "20/20 [==============================] - 4s 177ms/step - batch: 9.5000 - size: 5.9500 - loss: 2.1618 - accuracy: 0.2101 - val_loss: 2.3487 - val_accuracy: 0.2075\n",
      "Epoch 4/50\n",
      "20/20 [==============================] - 3s 167ms/step - batch: 9.5000 - size: 5.9500 - loss: 1.9903 - accuracy: 0.2773 - val_loss: 2.0691 - val_accuracy: 0.3585\n",
      "Epoch 5/50\n",
      "20/20 [==============================] - 3s 167ms/step - batch: 9.5000 - size: 5.9500 - loss: 1.7656 - accuracy: 0.3613 - val_loss: 1.9672 - val_accuracy: 0.4340\n",
      "Epoch 6/50\n",
      "20/20 [==============================] - 3s 164ms/step - batch: 9.5000 - size: 5.9500 - loss: 1.4228 - accuracy: 0.5546 - val_loss: 2.5290 - val_accuracy: 0.3962\n",
      "Epoch 7/50\n",
      "20/20 [==============================] - 4s 179ms/step - batch: 9.5000 - size: 5.9500 - loss: 1.0907 - accuracy: 0.6723 - val_loss: 2.4441 - val_accuracy: 0.4151\n",
      "Epoch 8/50\n",
      "20/20 [==============================] - 4s 179ms/step - batch: 9.5000 - size: 5.9500 - loss: 1.0325 - accuracy: 0.6303 - val_loss: 2.1742 - val_accuracy: 0.6792\n",
      "Epoch 9/50\n",
      "20/20 [==============================] - 3s 174ms/step - batch: 9.5000 - size: 6.0000 - loss: 0.8912 - accuracy: 0.6833 - val_loss: 2.5623 - val_accuracy: 0.4717\n",
      "Epoch 10/50\n",
      "20/20 [==============================] - 3s 172ms/step - batch: 9.5000 - size: 5.9500 - loss: 0.8135 - accuracy: 0.7395 - val_loss: 2.4464 - val_accuracy: 0.5472\n",
      "Epoch 11/50\n",
      "20/20 [==============================] - 4s 178ms/step - batch: 9.5000 - size: 5.9500 - loss: 0.7020 - accuracy: 0.7647 - val_loss: 2.3922 - val_accuracy: 0.5472\n",
      "Epoch 12/50\n",
      "20/20 [==============================] - 4s 178ms/step - batch: 9.5000 - size: 5.9500 - loss: 0.8759 - accuracy: 0.7227 - val_loss: 2.6439 - val_accuracy: 0.5094\n",
      "Epoch 13/50\n",
      "20/20 [==============================] - 3s 171ms/step - batch: 9.5000 - size: 5.9500 - loss: 0.7326 - accuracy: 0.7395 - val_loss: 2.7301 - val_accuracy: 0.4906\n",
      "Epoch 14/50\n",
      "20/20 [==============================] - 3s 168ms/step - batch: 9.5000 - size: 5.9500 - loss: 0.5842 - accuracy: 0.8487 - val_loss: 2.7342 - val_accuracy: 0.6038\n",
      "Epoch 15/50\n",
      "20/20 [==============================] - 3s 163ms/step - batch: 9.5000 - size: 6.0000 - loss: 0.4762 - accuracy: 0.8667 - val_loss: 2.1878 - val_accuracy: 0.6415\n",
      "Epoch 16/50\n",
      "20/20 [==============================] - 4s 178ms/step - batch: 9.5000 - size: 5.9000 - loss: 0.4854 - accuracy: 0.8559 - val_loss: 2.5354 - val_accuracy: 0.5660\n",
      "Epoch 17/50\n",
      "20/20 [==============================] - 4s 184ms/step - batch: 9.5000 - size: 6.0000 - loss: 0.4182 - accuracy: 0.8583 - val_loss: 2.8099 - val_accuracy: 0.6226\n",
      "Epoch 18/50\n",
      "20/20 [==============================] - 4s 183ms/step - batch: 9.5000 - size: 5.9500 - loss: 0.2993 - accuracy: 0.9244 - val_loss: 2.9520 - val_accuracy: 0.6038\n",
      "Epoch 19/50\n",
      "20/20 [==============================] - 4s 178ms/step - batch: 9.5000 - size: 5.9500 - loss: 0.3516 - accuracy: 0.9076 - val_loss: 3.2635 - val_accuracy: 0.6038\n",
      "Epoch 20/50\n",
      "20/20 [==============================] - 4s 180ms/step - batch: 9.5000 - size: 5.9500 - loss: 0.4207 - accuracy: 0.9076 - val_loss: 2.7577 - val_accuracy: 0.6226\n",
      "Epoch 21/50\n",
      "20/20 [==============================] - 4s 183ms/step - batch: 9.5000 - size: 6.0000 - loss: 0.2520 - accuracy: 0.9167 - val_loss: 2.9220 - val_accuracy: 0.6415\n",
      "Epoch 22/50\n",
      "20/20 [==============================] - 3s 175ms/step - batch: 9.5000 - size: 5.9000 - loss: 0.1638 - accuracy: 0.9576 - val_loss: 2.7222 - val_accuracy: 0.6792\n",
      "Epoch 23/50\n",
      "20/20 [==============================] - 4s 190ms/step - batch: 9.5000 - size: 6.0000 - loss: 0.2091 - accuracy: 0.9250 - val_loss: 2.4888 - val_accuracy: 0.6604\n",
      "Epoch 24/50\n",
      "20/20 [==============================] - 4s 189ms/step - batch: 9.5000 - size: 5.9500 - loss: 0.0876 - accuracy: 0.9832 - val_loss: 2.8646 - val_accuracy: 0.6604\n",
      "Epoch 25/50\n",
      "20/20 [==============================] - 4s 205ms/step - batch: 9.5000 - size: 5.9500 - loss: 0.1805 - accuracy: 0.9412 - val_loss: 2.6575 - val_accuracy: 0.6604\n",
      "Epoch 26/50\n",
      "20/20 [==============================] - 6s 311ms/step - batch: 9.5000 - size: 5.9500 - loss: 0.1281 - accuracy: 0.9496 - val_loss: 2.9877 - val_accuracy: 0.5660\n",
      "Epoch 27/50\n",
      "20/20 [==============================] - 6s 288ms/step - batch: 9.5000 - size: 6.0000 - loss: 0.1119 - accuracy: 0.9583 - val_loss: 2.6001 - val_accuracy: 0.6981\n",
      "Epoch 28/50\n",
      "20/20 [==============================] - 5s 275ms/step - batch: 9.5000 - size: 5.9000 - loss: 0.1106 - accuracy: 0.9576 - val_loss: 3.2465 - val_accuracy: 0.6415\n",
      "Epoch 29/50\n",
      "20/20 [==============================] - 4s 223ms/step - batch: 9.5000 - size: 6.0000 - loss: 0.1222 - accuracy: 0.9583 - val_loss: 2.5827 - val_accuracy: 0.5849\n",
      "Epoch 30/50\n",
      "20/20 [==============================] - 5s 247ms/step - batch: 9.5000 - size: 5.9500 - loss: 0.1864 - accuracy: 0.9328 - val_loss: 2.7804 - val_accuracy: 0.6038\n",
      "Epoch 31/50\n",
      "20/20 [==============================] - 5s 238ms/step - batch: 9.5000 - size: 5.9500 - loss: 0.1147 - accuracy: 0.9664 - val_loss: 2.4030 - val_accuracy: 0.6226\n",
      "Epoch 32/50\n",
      "20/20 [==============================] - 5s 240ms/step - batch: 9.5000 - size: 5.9500 - loss: 0.1003 - accuracy: 0.9580 - val_loss: 2.9471 - val_accuracy: 0.6792\n",
      "Epoch 33/50\n",
      "20/20 [==============================] - 4s 189ms/step - batch: 9.5000 - size: 5.9500 - loss: 0.1273 - accuracy: 0.9580 - val_loss: 2.4307 - val_accuracy: 0.6604\n",
      "Epoch 34/50\n",
      "20/20 [==============================] - 4s 203ms/step - batch: 9.5000 - size: 6.0000 - loss: 0.1432 - accuracy: 0.9583 - val_loss: 2.3619 - val_accuracy: 0.6038\n",
      "Epoch 35/50\n",
      "20/20 [==============================] - 4s 217ms/step - batch: 9.5000 - size: 5.9500 - loss: 0.1782 - accuracy: 0.9496 - val_loss: 2.9400 - val_accuracy: 0.6226\n",
      "Epoch 36/50\n",
      "20/20 [==============================] - 5s 254ms/step - batch: 9.5000 - size: 5.9500 - loss: 0.0412 - accuracy: 0.9916 - val_loss: 2.9669 - val_accuracy: 0.6604\n",
      "Epoch 37/50\n",
      "20/20 [==============================] - 4s 185ms/step - batch: 9.5000 - size: 5.9500 - loss: 0.0613 - accuracy: 0.9916 - val_loss: 2.6573 - val_accuracy: 0.8113\n",
      "Epoch 38/50\n",
      "20/20 [==============================] - 4s 191ms/step - batch: 9.5000 - size: 5.9500 - loss: 0.0865 - accuracy: 0.9664 - val_loss: 1.7127 - val_accuracy: 0.6981\n",
      "Epoch 39/50\n",
      "20/20 [==============================] - 4s 199ms/step - batch: 9.5000 - size: 6.0000 - loss: 0.1222 - accuracy: 0.9583 - val_loss: 2.2148 - val_accuracy: 0.7170\n",
      "Epoch 40/50\n",
      "20/20 [==============================] - 4s 189ms/step - batch: 9.5000 - size: 5.9500 - loss: 0.1454 - accuracy: 0.9664 - val_loss: 2.8246 - val_accuracy: 0.5849\n",
      "Epoch 41/50\n",
      "20/20 [==============================] - 4s 184ms/step - batch: 9.5000 - size: 5.9500 - loss: 0.2899 - accuracy: 0.9160 - val_loss: 2.2994 - val_accuracy: 0.6792\n",
      "Epoch 42/50\n",
      "20/20 [==============================] - 4s 198ms/step - batch: 9.5000 - size: 5.9500 - loss: 0.1393 - accuracy: 0.9244 - val_loss: 2.8178 - val_accuracy: 0.6792\n",
      "Epoch 43/50\n",
      "20/20 [==============================] - 4s 182ms/step - batch: 9.5000 - size: 5.9500 - loss: 0.0773 - accuracy: 0.9748 - val_loss: 3.2517 - val_accuracy: 0.6415\n",
      "Epoch 44/50\n",
      "20/20 [==============================] - 4s 204ms/step - batch: 9.5000 - size: 5.9500 - loss: 0.1061 - accuracy: 0.9496 - val_loss: 2.8010 - val_accuracy: 0.6792\n",
      "Epoch 45/50\n",
      "20/20 [==============================] - 4s 202ms/step - batch: 9.5000 - size: 6.0000 - loss: 0.1251 - accuracy: 0.9667 - val_loss: 2.7151 - val_accuracy: 0.6981\n",
      "Epoch 46/50\n",
      "20/20 [==============================] - 4s 201ms/step - batch: 9.5000 - size: 5.9000 - loss: 0.2141 - accuracy: 0.9153 - val_loss: 2.6934 - val_accuracy: 0.6038\n",
      "Epoch 47/50\n",
      "20/20 [==============================] - 4s 194ms/step - batch: 9.5000 - size: 6.0000 - loss: 0.0695 - accuracy: 0.9917 - val_loss: 2.8692 - val_accuracy: 0.6415\n",
      "Epoch 48/50\n",
      "20/20 [==============================] - 4s 188ms/step - batch: 9.5000 - size: 5.9500 - loss: 0.0961 - accuracy: 0.9664 - val_loss: 2.9728 - val_accuracy: 0.6038\n",
      "Epoch 49/50\n",
      "20/20 [==============================] - 4s 186ms/step - batch: 9.5000 - size: 5.9500 - loss: 0.0749 - accuracy: 0.9748 - val_loss: 3.0861 - val_accuracy: 0.6226\n",
      "Epoch 50/50\n",
      "20/20 [==============================] - 4s 193ms/step - batch: 9.5000 - size: 5.9500 - loss: 0.0191 - accuracy: 1.0000 - val_loss: 3.7498 - val_accuracy: 0.6415\n"
     ]
    },
    {
     "data": {
      "text/plain": [
       "<tensorflow.python.keras.callbacks.History at 0x23881476040>"
      ]
     },
     "execution_count": 15,
     "metadata": {},
     "output_type": "execute_result"
    }
   ],
   "source": [
    "classifier.fit_generator(training_set,\n",
    "                         steps_per_epoch = 20,\n",
    "                         epochs = 50,\n",
    "                         validation_data=valid_set\n",
    "                         )"
   ]
  },
  {
   "cell_type": "code",
   "execution_count": 16,
   "metadata": {},
   "outputs": [
    {
     "name": "stdout",
     "output_type": "stream",
     "text": [
      "Saved model to disk\n"
     ]
    }
   ],
   "source": [
    "classifier_json=classifier.to_json()\n",
    "with open(\"model1.json\", \"w\") as json_file:\n",
    "    json_file.write(classifier_json)\n",
    "# serialize weights to HDF5\n",
    "    classifier.save_weights(\"my_model_weights.h5\")\n",
    "    classifier.save(\"model.h5\")\n",
    "    print(\"Saved model to disk\")"
   ]
  },
  {
   "cell_type": "markdown",
   "metadata": {},
   "source": [
    "\n",
    "<br>\n",
    "import cv2<br>\n",
    "from matplotlib import pyplot as plt<br>\n",
    "import os<br>\n",
    "import numpy as np<br>\n",
    "img = cv2.imread('C:/Users/Madhuri/AppData/Local/Programs/Python/Python38/Leaf_disease/data/d (7)_iaip.jpg')<br>\n",
    "img_resize = cv2.resize(img, (128,128))<br>\n",
    "CV2 reads an image in BGR format. We need to convert it to RGB<br>\n",
    "b,g,r = cv2.split(img_resize)       # get b,g,r<br>\n",
    "rgb_img = cv2.merge([r,g,b])     # switch it to rgb<br>\n",
    "plt.imshow(rgb_img)<br>\n",
    "label_map = (training_set.class_indices)<br>\n",
    "print(label_map)<br>\n",
    "img_rank4 = np.expand_dims(rgb_img/255, axis=0)<br>\n",
    "classifier.predict(img_rank4)<br>\n",
    "h = list(label_map.keys())[classifier.predict_classes(img_rank4)[0]]<br>\n",
    "font = cv2.FONT_HERSHEY_DUPLEX<br>\n",
    "cv2.putText(img, h, (10, 30), font, 1.0, (0, 0, 255), 1)<br>\n",
    "cv2.imshow(h,img)<br>\n",
    "print(h)<br>\n"
   ]
  }
 ],
 "metadata": {
  "kernelspec": {
   "display_name": "Python 3 (ipykernel)",
   "language": "python",
   "name": "python3"
  },
  "language_info": {
   "codemirror_mode": {
    "name": "ipython",
    "version": 3
   },
   "file_extension": ".py",
   "mimetype": "text/x-python",
   "name": "python",
   "nbconvert_exporter": "python",
   "pygments_lexer": "ipython3",
   "version": "3.8.18"
  }
 },
 "nbformat": 4,
 "nbformat_minor": 4
}
