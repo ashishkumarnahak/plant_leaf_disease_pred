{
 "cells": [
  {
   "cell_type": "markdown",
   "metadata": {},
   "source": [
    "mport necessary libraries"
   ]
  },
  {
   "cell_type": "code",
   "execution_count": 1,
   "metadata": {},
   "outputs": [],
   "source": [
    "from flask import Flask, render_template, request"
   ]
  },
  {
   "cell_type": "code",
   "execution_count": 2,
   "metadata": {},
   "outputs": [],
   "source": [
    "import numpy as np\n",
    "import os"
   ]
  },
  {
   "cell_type": "code",
   "execution_count": 3,
   "metadata": {},
   "outputs": [],
   "source": [
    "from tensorflow.keras.preprocessing.image import load_img\n",
    "from tensorflow.keras.preprocessing.image import img_to_array\n",
    "from tensorflow.keras.models import load_model"
   ]
  },
  {
   "cell_type": "code",
   "execution_count": 4,
   "metadata": {},
   "outputs": [
    {
     "name": "stdout",
     "output_type": "stream",
     "text": [
      "<tensorflow.python.keras.engine.sequential.Sequential object at 0x000002A489AF6E80>\n"
     ]
    }
   ],
   "source": [
    "filepath = 'C:/Users/Acer/Desktop/Plant-Leaf-Disease-Prediction-main/Plant-Leaf-Disease-Prediction-main/model.h5'\n",
    "model = load_model(filepath)\n",
    "print(model)"
   ]
  },
  {
   "cell_type": "code",
   "execution_count": 5,
   "metadata": {},
   "outputs": [
    {
     "name": "stdout",
     "output_type": "stream",
     "text": [
      "Model Loaded Successfully\n"
     ]
    }
   ],
   "source": [
    "print(\"Model Loaded Successfully\")"
   ]
  },
  {
   "cell_type": "code",
   "execution_count": 6,
   "metadata": {},
   "outputs": [],
   "source": [
    "def pred_tomato_dieas(tomato_plant):\n",
    "  test_image = load_img(tomato_plant, target_size = (128, 128)) # load image \n",
    "  print(\"@@ Got Image for prediction\")\n",
    "  \n",
    "  test_image = img_to_array(test_image)/255 # convert image to np array and normalize\n",
    "  test_image = np.expand_dims(test_image, axis = 0) # change dimention 3D to 4D\n",
    "  \n",
    "  result = model.predict(test_image) # predict diseased palnt or not\n",
    "  print('@@ Raw result = ', result)\n",
    "  \n",
    "  pred = np.argmax(result, axis=1)\n",
    "  print(pred)\n",
    "  if pred==0:\n",
    "      return \"Tomato - Bacteria Spot Disease\", 'Tomato-Bacteria Spot.html'\n",
    "       \n",
    "  elif pred==1:\n",
    "      return \"Tomato - Early Blight Disease\", 'Tomato-Early_Blight.html'\n",
    "        \n",
    "  elif pred==2:\n",
    "      return \"Tomato - Healthy and Fresh\", 'Tomato-Healthy.html'\n",
    "        \n",
    "  elif pred==3:\n",
    "      return \"Tomato - Late Blight Disease\", 'Tomato - Late_blight.html'\n",
    "       \n",
    "  elif pred==4:\n",
    "      return \"Tomato - Leaf Mold Disease\", 'Tomato - Leaf_Mold.html'\n",
    "        \n",
    "  elif pred==5:\n",
    "      return \"Tomato - Septoria Leaf Spot Disease\", 'Tomato - Septoria_leaf_spot.html'\n",
    "        \n",
    "  elif pred==6:\n",
    "      return \"Tomato - Target Spot Disease\", 'Tomato - Target_Spot.html'\n",
    "        \n",
    "  elif pred==7:\n",
    "      return \"Tomato - Tomoato Yellow Leaf Curl Virus Disease\", 'Tomato - Tomato_Yellow_Leaf_Curl_Virus.html'\n",
    "  elif pred==8:\n",
    "      return \"Tomato - Tomato Mosaic Virus Disease\", 'Tomato - Tomato_mosaic_virus.html'\n",
    "        \n",
    "  elif pred==9:\n",
    "      return \"Tomato - Two Spotted Spider Mite Disease\", 'Tomato - Two-spotted_spider_mite.html'\n",
    "    "
   ]
  },
  {
   "cell_type": "markdown",
   "metadata": {},
   "source": [
    "Create Flask instance"
   ]
  },
  {
   "cell_type": "code",
   "execution_count": 7,
   "metadata": {},
   "outputs": [],
   "source": [
    "app = Flask(__name__)"
   ]
  },
  {
   "cell_type": "markdown",
   "metadata": {},
   "source": [
    "render index.html page"
   ]
  },
  {
   "cell_type": "code",
   "execution_count": null,
   "metadata": {},
   "outputs": [
    {
     "name": "stdout",
     "output_type": "stream",
     "text": [
      " * Serving Flask app '__main__' (lazy loading)\n",
      " * Environment: production\n",
      "\u001b[31m   WARNING: This is a development server. Do not use it in a production deployment.\u001b[0m\n",
      "\u001b[2m   Use a production WSGI server instead.\u001b[0m\n",
      " * Debug mode: off\n"
     ]
    },
    {
     "name": "stderr",
     "output_type": "stream",
     "text": [
      " * Running on http://127.0.0.1:8043/ (Press CTRL+C to quit)\n",
      "127.0.0.1 - - [27/Mar/2024 12:43:28] \"GET / HTTP/1.1\" 200 -\n",
      "127.0.0.1 - - [27/Mar/2024 12:43:28] \"GET /static/images/Background.jpg HTTP/1.1\" 304 -\n",
      "127.0.0.1 - - [27/Mar/2024 12:43:28] \"GET /favicon.ico HTTP/1.1\" 404 -\n"
     ]
    },
    {
     "name": "stdout",
     "output_type": "stream",
     "text": [
      "@@ Input posted =  Tomato___Early_blight (1).JPG\n",
      "@@ Predicting class......\n",
      "@@ Got Image for prediction\n"
     ]
    },
    {
     "name": "stderr",
     "output_type": "stream",
     "text": [
      "127.0.0.1 - - [27/Mar/2024 12:43:39] \"POST /predict HTTP/1.1\" 200 -\n",
      "127.0.0.1 - - [27/Mar/2024 12:43:39] \"GET /static/images/Tomato___Early_blight.JPG HTTP/1.1\" 200 -\n",
      "127.0.0.1 - - [27/Mar/2024 12:43:39] \"GET /static/images/Back.jpg HTTP/1.1\" 304 -\n"
     ]
    },
    {
     "name": "stdout",
     "output_type": "stream",
     "text": [
      "@@ Raw result =  [[0.31034994 0.9999959  0.00441235 0.99981755 0.99997884 0.43594885\n",
      "  0.02624157 0.8446902  0.0013631  0.0271672 ]]\n",
      "[1]\n"
     ]
    },
    {
     "name": "stderr",
     "output_type": "stream",
     "text": [
      "127.0.0.1 - - [27/Mar/2024 12:43:54] \"POST /predict HTTP/1.1\" 200 -\n",
      "127.0.0.1 - - [27/Mar/2024 12:43:54] \"GET /static/images/Tomato___Target_Spot.JPG HTTP/1.1\" 200 -\n"
     ]
    },
    {
     "name": "stdout",
     "output_type": "stream",
     "text": [
      "@@ Input posted =  Tomato___Bacterial_spot (1).JPG\n",
      "@@ Predicting class......\n",
      "@@ Got Image for prediction\n",
      "@@ Raw result =  [[9.9980247e-01 9.9903256e-01 2.7002960e-02 3.8192981e-01 4.5033664e-02\n",
      "  9.4873132e-05 9.9999523e-01 1.7454028e-03 9.4987744e-01 9.7524130e-01]]\n",
      "[6]\n"
     ]
    },
    {
     "name": "stderr",
     "output_type": "stream",
     "text": [
      "127.0.0.1 - - [27/Mar/2024 12:43:54] \"GET /static/images/Back.jpg HTTP/1.1\" 304 -\n",
      "127.0.0.1 - - [27/Mar/2024 15:29:22] \"GET /static/images/Background.jpg HTTP/1.1\" 304 -\n"
     ]
    }
   ],
   "source": [
    "@app.route(\"/\", methods=['GET', 'POST'], endpoint='home_route')\n",
    "def home():\n",
    "        return render_template('index.html')\n",
    "    \n",
    " \n",
    "# get input image from client then predict class and render respective .html page for solution\n",
    "@app.route(\"/predict\", methods = ['GET','POST'], endpoint='predict_route')\n",
    "def predict():\n",
    "     if request.method == 'POST':\n",
    "        file = request.files['image'] # fet input\n",
    "        filename = file.filename        \n",
    "        print(\"@@ Input posted = \", filename)\n",
    "        \n",
    "        file_path = os.path.join('C:/Users/Acer/Desktop/Plant-Leaf-Disease-Prediction-main/Plant-Leaf-Disease-Prediction-main/static/upload/', filename)\n",
    "        file.save(file_path)\n",
    "        print(\"@@ Predicting class......\")\n",
    "        pred, output_page = pred_tomato_dieas(tomato_plant=file_path)\n",
    "              \n",
    "        return render_template(output_page, pred_output = pred, user_image = file_path)\n",
    "    \n",
    "# For local system & cloud\n",
    "if __name__ == \"__main__\":\n",
    "    app.run(threaded=False,port=8043) \n",
    "    \n",
    "    "
   ]
  }
 ],
 "metadata": {
  "kernelspec": {
   "display_name": "Python 3 (ipykernel)",
   "language": "python",
   "name": "python3"
  },
  "language_info": {
   "codemirror_mode": {
    "name": "ipython",
    "version": 3
   },
   "file_extension": ".py",
   "mimetype": "text/x-python",
   "name": "python",
   "nbconvert_exporter": "python",
   "pygments_lexer": "ipython3",
   "version": "3.8.18"
  }
 },
 "nbformat": 4,
 "nbformat_minor": 4
}
